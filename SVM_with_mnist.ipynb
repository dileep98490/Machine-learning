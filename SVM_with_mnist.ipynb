{
  "cells": [
    {
      "cell_type": "markdown",
      "metadata": {
        "id": "view-in-github",
        "colab_type": "text"
      },
      "source": [
        "<a href=\"https://colab.research.google.com/github/dileep98490/Machine-learning/blob/main/SVM_with_mnist.ipynb\" target=\"_parent\"><img src=\"https://colab.research.google.com/assets/colab-badge.svg\" alt=\"Open In Colab\"/></a>"
      ]
    },
    {
      "cell_type": "markdown",
      "source": [
        "We will use tensorflow to download the training data which is MNIST that contains hand-written digits from 0-9. Our goal is to recognize the handwritten digit belonging to any of the 10 classes(0-9)"
      ],
      "metadata": {
        "id": "Zj8EcxFG1TKH"
      }
    },
    {
      "cell_type": "code",
      "execution_count": null,
      "metadata": {
        "colab": {
          "base_uri": "https://localhost:8080/"
        },
        "id": "9rvXQGAA0ssC",
        "outputId": "d0f7d98e-3f27-4877-ea71-7c6caa5d318d"
      },
      "outputs": [
        {
          "output_type": "stream",
          "name": "stdout",
          "text": [
            "<module 'tensorflow._api.v2.version' from '/usr/local/lib/python3.7/dist-packages/tensorflow/_api/v2/version/__init__.py'>\n",
            "Downloading data from https://storage.googleapis.com/tensorflow/tf-keras-datasets/mnist.npz\n",
            "11493376/11490434 [==============================] - 0s 0us/step\n",
            "11501568/11490434 [==============================] - 0s 0us/step\n",
            "The length of data is 60000\n"
          ]
        }
      ],
      "source": [
        "import tensorflow as tf\n",
        "import matplotlib.pyplot as plt\n",
        "import numpy as np\n",
        "\n",
        "from tensorflow import keras\n",
        "from keras import layers\n",
        "from sklearn import svm\n",
        "\n",
        "class myCallback(tf.keras.callbacks.Callback):\n",
        "  def on_epoch_end(self, epoch, logs={}):\n",
        "    if(logs.get('accuracy')>0.99):\n",
        "      print(\"\\nReached 99% accuracy so cancelling training!\")\n",
        "      self.model.stop_training = True\n",
        "print(tf.version)\n",
        "callbacks = myCallback()\n",
        "mnist = tf.keras.datasets.mnist\n",
        "\n",
        "(x_train, y_train),(x_test, y_test) = mnist.load_data()\n",
        "print('The length of data is',len(x_train))\n",
        "x_train=x_train/255.0\n",
        "x_test=x_test/255.0\n",
        "\n",
        "# YOUR CODE SHOULD START HERE\n",
        "\n",
        "# YOUR CODE SHOULD END HERE\n"
      ]
    },
    {
      "cell_type": "markdown",
      "source": [
        "Reshape the training data so that we can feed to SVM classifier"
      ],
      "metadata": {
        "id": "nh9IbOko1LB0"
      }
    },
    {
      "cell_type": "code",
      "source": [
        "x_train_new=x_train.reshape(-1,784) #60000,784 also would have given same result, 60000x28x28\n",
        "#print(x_train[0])\n",
        "print(x_train_new.shape)\n",
        "print(y_train.shape)\n"
      ],
      "metadata": {
        "colab": {
          "base_uri": "https://localhost:8080/"
        },
        "id": "ZYj_8MmJpIpA",
        "outputId": "7baf708e-fcaa-40cf-f9b0-d1233724daef"
      },
      "execution_count": null,
      "outputs": [
        {
          "output_type": "stream",
          "name": "stdout",
          "text": [
            "(60000, 784)\n",
            "(60000,)\n"
          ]
        }
      ]
    },
    {
      "cell_type": "markdown",
      "source": [
        "We will use the sci-kit svm for the purpose of training our model"
      ],
      "metadata": {
        "id": "c5Ls87BYy7-E"
      }
    },
    {
      "cell_type": "code",
      "source": [
        "clf=svm.SVC(kernel='rbf')\n",
        "clf.fit(x_train_new,y_train)"
      ],
      "metadata": {
        "id": "41WSlO40zELw",
        "colab": {
          "base_uri": "https://localhost:8080/"
        },
        "outputId": "a40b85b1-8f53-46f2-d2c5-e699a874e669"
      },
      "execution_count": null,
      "outputs": [
        {
          "output_type": "execute_result",
          "data": {
            "text/plain": [
              "SVC()"
            ]
          },
          "metadata": {},
          "execution_count": 3
        }
      ]
    },
    {
      "cell_type": "markdown",
      "source": [
        "Let's see the result using the test data"
      ],
      "metadata": {
        "id": "HevZEfVl1IrF"
      }
    },
    {
      "cell_type": "code",
      "source": [
        "i=9\n",
        "p=x_test[i].flatten()\n",
        "l=p.reshape(1,-1)\n",
        "print(clf.predict(l))\n",
        "plt.imshow(x_test[i])\n",
        "print(y_test[i])"
      ],
      "metadata": {
        "colab": {
          "base_uri": "https://localhost:8080/",
          "height": 299
        },
        "id": "yU3UN6Z-2RZg",
        "outputId": "99e57b7d-9d7c-4044-ad9d-63c7dab9d857"
      },
      "execution_count": null,
      "outputs": [
        {
          "output_type": "stream",
          "name": "stdout",
          "text": [
            "[9]\n",
            "9\n"
          ]
        },
        {
          "output_type": "display_data",
          "data": {
            "text/plain": [
              "<Figure size 432x288 with 1 Axes>"
            ],
            "image/png": "[encoded data removed]"
          },
          "metadata": {
            "needs_background": "light"
          }
        }
      ]
    },
    {
      "cell_type": "markdown",
      "source": [
        "Let's see the prediction accuracy over full test data set"
      ],
      "metadata": {
        "id": "D4IHv2LQmDZq"
      }
    },
    {
      "cell_type": "code",
      "source": [
        "x_test_new=x_test.reshape(-1,784)\n",
        "clf.score(x_test_new,y_test)"
      ],
      "metadata": {
        "colab": {
          "base_uri": "https://localhost:8080/"
        },
        "id": "2M1WWgIOmIhH",
        "outputId": "4d49d95a-24e6-49aa-957d-97ab849b894f"
      },
      "execution_count": null,
      "outputs": [
        {
          "output_type": "execute_result",
          "data": {
            "text/plain": [
              "0.9792"
            ]
          },
          "metadata": {},
          "execution_count": 4
        }
      ]
    },
    {
      "cell_type": "markdown",
      "source": [
        "Neural Networks over Mnist data set"
      ],
      "metadata": {
        "id": "6cc-VuAPhwV5"
      }
    },
    {
      "cell_type": "code",
      "source": [
        "model = tf.keras.models.Sequential([tf.keras.layers.Flatten(),\n",
        "                                    tf.keras.layers.Dense(128, activation=tf.nn.relu),\n",
        "                                    tf.keras.layers.Dense(10, activation=tf.nn.softmax)\n",
        "])\n",
        "\n",
        "model.compile(optimizer='adam',\n",
        "              loss='sparse_categorical_crossentropy',\n",
        "              metrics=['accuracy'])\n",
        "model.fit(x_train, y_train, epochs=5, callbacks=[callbacks])\n",
        "model.evaluate(x_test,y_test)\n",
        "cf = model.predict(x_test)\n",
        "print(cf[1])\n",
        "print(y_test[1])\n",
        "plt.imshow(x_test[1])\n",
        "# YOUR CODE SHOULD START HERE\n",
        "# YOUR CODE SHOULD END HERE"
      ],
      "metadata": {
        "colab": {
          "base_uri": "https://localhost:8080/",
          "height": 537
        },
        "id": "RVIRcKFnhyEV",
        "outputId": "5825c0a3-582f-4d06-8573-f3c202fedcf8"
      },
      "execution_count": null,
      "outputs": [
        {
          "output_type": "stream",
          "name": "stdout",
          "text": [
            "Epoch 1/5\n",
            "1875/1875 [==============================] - 4s 2ms/step - loss: 0.2554 - accuracy: 0.9271\n",
            "Epoch 2/5\n",
            "1875/1875 [==============================] - 4s 2ms/step - loss: 0.1103 - accuracy: 0.9671\n",
            "Epoch 3/5\n",
            "1875/1875 [==============================] - 4s 2ms/step - loss: 0.0763 - accuracy: 0.9774\n",
            "Epoch 4/5\n",
            "1875/1875 [==============================] - 4s 2ms/step - loss: 0.0565 - accuracy: 0.9820\n",
            "Epoch 5/5\n",
            "1875/1875 [==============================] - 4s 2ms/step - loss: 0.0435 - accuracy: 0.9870\n",
            "313/313 [==============================] - 1s 1ms/step - loss: 0.0778 - accuracy: 0.9763\n",
            "[3.68190278e-09 1.78761311e-05 9.99980807e-01 6.90125830e-07\n",
            " 1.63386543e-13 2.44927385e-08 1.30792671e-07 1.07947017e-13\n",
            " 5.05642618e-07 1.17802955e-11]\n",
            "2\n"
          ]
        },
        {
          "output_type": "execute_result",
          "data": {
            "text/plain": [
              "<matplotlib.image.AxesImage at 0x7f21dd610990>"
            ]
          },
          "metadata": {},
          "execution_count": 10
        },
        {
          "output_type": "display_data",
          "data": {
            "text/plain": [
              "<Figure size 432x288 with 1 Axes>"
            ],
            "image/png": "[encoded data removed]"
          },
          "metadata": {
            "needs_background": "light"
          }
        }
      ]
    }
  ],
  "metadata": {
    "colab": {
      "collapsed_sections": [],
      "name": "SVM_with_mnist.ipynb",
      "provenance": [],
      "toc_visible": true,
      "include_colab_link": true
    },
    "kernelspec": {
      "display_name": "Python 3",
      "name": "python3"
    }
  },
  "nbformat": 4,
  "nbformat_minor": 0
}